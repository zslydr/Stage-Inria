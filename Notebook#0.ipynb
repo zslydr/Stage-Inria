{
 "cells": [
  {
   "cell_type": "markdown",
   "metadata": {},
   "source": [
    "# Correspondance des organisations avec la base de données SIRENE"
   ]
  },
  {
   "cell_type": "code",
   "execution_count": 1,
   "metadata": {
    "collapsed": true
   },
   "outputs": [],
   "source": [
    "import os\n",
    "os.chdir('/Users/Raphael/INRIA/travail/anHALytics/') #Select your working directory\n",
    "cwd = os.getcwd()\n",
    "import codecs\n",
    "import pandas as pd\n",
    "import os.path\n",
    "from langdetect import detect_langs\n",
    "import numpy as np\n",
    "import matplotlib.pyplot as plt\n",
    "accents=['à','á','â','ç','è','é','ê','ë','ì','í','î','ï','ñ','ò','ó','ô','ù','ú','û','ü','ý','ÿ']\n",
    "spec=['/','*',',','.','?','-','_']\n",
    "stopwords=['de','la','les','des','le','du']"
   ]
  },
  {
   "cell_type": "markdown",
   "metadata": {},
   "source": [
    "### Récupération des données"
   ]
  },
  {
   "cell_type": "markdown",
   "metadata": {},
   "source": [
    "#### Tables anHALytics"
   ]
  },
  {
   "cell_type": "code",
   "execution_count": 2,
   "metadata": {
    "collapsed": true
   },
   "outputs": [],
   "source": [
    "anHALytics={}\n",
    "for x in os.listdir(cwd+'/json'):\n",
    "    if (x!='ORG_SIREN') & (x!='.DS_Store'):\n",
    "        anHALytics[x[:-5]]=pd.read_json(cwd+'/json/'+x)"
   ]
  },
  {
   "cell_type": "markdown",
   "metadata": {},
   "source": [
    "#### Table SIRENE (un subset)"
   ]
  },
  {
   "cell_type": "code",
   "execution_count": 3,
   "metadata": {
    "collapsed": true
   },
   "outputs": [],
   "source": [
    "subset_SIRENE=pd.read_json('/Users/Raphael/INRIA/travail/SIRENE/subset_SIRENE.json')"
   ]
  },
  {
   "cell_type": "markdown",
   "metadata": {},
   "source": [
    "### Fonction de normalisation du texte pour effectuer la correspondance"
   ]
  },
  {
   "cell_type": "code",
   "execution_count": 4,
   "metadata": {
    "collapsed": true
   },
   "outputs": [],
   "source": [
    "liste_mots=pd.read_csv('liste_mots.txt',sep='\\t',encoding='\"ISO-8859-1\"')\n",
    "\n",
    "mots_accent=[]\n",
    "for x in list(liste_mots['mot']):\n",
    "    if len(set(x).intersection(set(accents)))>0:\n",
    "        mots_accent.append(x)\n",
    "\n",
    "import unicodedata\n",
    "\n",
    "dico_mot_accent={}\n",
    "\n",
    "for x in mots_accent:\n",
    "    for i,y in enumerate(x):\n",
    "        if y in accents:\n",
    "            break\n",
    "    dico_mot_accent[unicodedata.normalize('NFKD', x).encode('ASCII', 'ignore').decode('utf-8')]=x[:i]+x[i+1:]"
   ]
  },
  {
   "cell_type": "code",
   "execution_count": 17,
   "metadata": {
    "collapsed": true
   },
   "outputs": [],
   "source": [
    "def normalize(string,spec,stopwords,sigle=False): #pas très optimisé, mais le temps d'execution est plus que correct\n",
    "    if string!=None:\n",
    "        string=string.lower()\n",
    "        if sigle==False:\n",
    "            string=del_stopwords(string,stopwords)\n",
    "            string=deal_accents(string,dico_mot_accent)\n",
    "        for x in spec:\n",
    "            string=string.replace(x,'')\n",
    "        if sigle & (len(string)>3):\n",
    "            return(string)\n",
    "        if sigle & (len(string)<=3):\n",
    "            return('')\n",
    "        return(string.replace(' ',''))\n",
    "    return('')\n",
    "\n",
    "def deal_accents(string,dico_mot_accent):\n",
    "    string=string.split(' ')\n",
    "    for i,x in enumerate(string):\n",
    "        if x in dico_mot_accent:\n",
    "            string[i]=dico_mot_accent[x]\n",
    "    return(' '.join(string))\n",
    "\n",
    "def del_stopwords(string,stopwords):\n",
    "    string=string.split(' ')\n",
    "    for i in range(len(string)-1,-1,-1):\n",
    "        if string[i] in stopwords:\n",
    "            del string[i]\n",
    "    return(' '.join(string))"
   ]
  },
  {
   "cell_type": "markdown",
   "metadata": {},
   "source": [
    "### On normalise les colonnes correspondantes aux noms des entitées:"
   ]
  },
  {
   "cell_type": "code",
   "execution_count": 6,
   "metadata": {
    "collapsed": true
   },
   "outputs": [],
   "source": [
    "subset_SIRENE['recherche'] = subset_SIRENE['NOMEN_LONG'].apply(lambda x: normalize(x,spec,stopwords))"
   ]
  },
  {
   "cell_type": "code",
   "execution_count": 7,
   "metadata": {
    "collapsed": true
   },
   "outputs": [],
   "source": [
    "anHALytics['ORGANISATION_NAME']['recherche']=anHALytics['ORGANISATION_NAME']['name'].apply(lambda x: normalize(x,spec,stopwords))"
   ]
  },
  {
   "cell_type": "markdown",
   "metadata": {},
   "source": [
    "La dernière étape consiste à joindre les deux tables via la colonne 'recherche':"
   ]
  },
  {
   "cell_type": "code",
   "execution_count": 8,
   "metadata": {
    "collapsed": true
   },
   "outputs": [],
   "source": [
    "merged=pd.merge(subset_SIRENE,anHALytics['ORGANISATION_NAME'],on='recherche')"
   ]
  },
  {
   "cell_type": "markdown",
   "metadata": {},
   "source": [
    "Cependant, il reste quelques problèmes"
   ]
  },
  {
   "cell_type": "code",
   "execution_count": 9,
   "metadata": {},
   "outputs": [
    {
     "data": {
      "text/html": [
       "<div>\n",
       "<style>\n",
       "    .dataframe thead tr:only-child th {\n",
       "        text-align: right;\n",
       "    }\n",
       "\n",
       "    .dataframe thead th {\n",
       "        text-align: left;\n",
       "    }\n",
       "\n",
       "    .dataframe tbody tr th {\n",
       "        vertical-align: top;\n",
       "    }\n",
       "</style>\n",
       "<table border=\"1\" class=\"dataframe\">\n",
       "  <thead>\n",
       "    <tr style=\"text-align: right;\">\n",
       "      <th></th>\n",
       "      <th>organisationID</th>\n",
       "      <th>name</th>\n",
       "      <th>SIREN</th>\n",
       "    </tr>\n",
       "  </thead>\n",
       "  <tbody>\n",
       "    <tr>\n",
       "      <th>752</th>\n",
       "      <td>15889</td>\n",
       "      <td>Institut National de la Sant?? et de la Recher...</td>\n",
       "      <td>166</td>\n",
       "    </tr>\n",
       "    <tr>\n",
       "      <th>868</th>\n",
       "      <td>18548</td>\n",
       "      <td>Institut National de la Sant?? et de la Recher...</td>\n",
       "      <td>166</td>\n",
       "    </tr>\n",
       "    <tr>\n",
       "      <th>47</th>\n",
       "      <td>510</td>\n",
       "      <td>Institut National de la Sant?? et de la Recher...</td>\n",
       "      <td>166</td>\n",
       "    </tr>\n",
       "    <tr>\n",
       "      <th>706</th>\n",
       "      <td>14582</td>\n",
       "      <td>Institut National de la Sant?? et de la Recher...</td>\n",
       "      <td>166</td>\n",
       "    </tr>\n",
       "    <tr>\n",
       "      <th>431</th>\n",
       "      <td>8559</td>\n",
       "      <td>Institut National de la Sant?? et de la Recher...</td>\n",
       "      <td>166</td>\n",
       "    </tr>\n",
       "  </tbody>\n",
       "</table>\n",
       "</div>"
      ],
      "text/plain": [
       "     organisationID                                               name  SIREN\n",
       "752           15889  Institut National de la Sant?? et de la Recher...    166\n",
       "868           18548  Institut National de la Sant?? et de la Recher...    166\n",
       "47              510  Institut National de la Sant?? et de la Recher...    166\n",
       "706           14582  Institut National de la Sant?? et de la Recher...    166\n",
       "431            8559  Institut National de la Sant?? et de la Recher...    166"
      ]
     },
     "execution_count": 9,
     "metadata": {},
     "output_type": "execute_result"
    }
   ],
   "source": [
    "table1=merged.groupby(['organisationID','name'],as_index=False).SIREN.count().sort_values(by='SIREN',ascending=False)\n",
    "#table1.iloc[[0,8,9,12,14]].to_excel(cwd+'/Tables/'+'Table1.xls')\n",
    "table1.head()\n",
    "\n"
   ]
  },
  {
   "cell_type": "markdown",
   "metadata": {},
   "source": [
    "Premièrement, on remarque que des noms sont associés à plusieurs lignes de la base SIRENE. Ensuite que certaines organisations de la base anHALytics ont plusieurs lignes différentes."
   ]
  },
  {
   "cell_type": "code",
   "execution_count": 10,
   "metadata": {},
   "outputs": [
    {
     "data": {
      "text/html": [
       "<div>\n",
       "<style>\n",
       "    .dataframe thead tr:only-child th {\n",
       "        text-align: right;\n",
       "    }\n",
       "\n",
       "    .dataframe thead th {\n",
       "        text-align: left;\n",
       "    }\n",
       "\n",
       "    .dataframe tbody tr th {\n",
       "        vertical-align: top;\n",
       "    }\n",
       "</style>\n",
       "<table border=\"1\" class=\"dataframe\">\n",
       "  <thead>\n",
       "    <tr style=\"text-align: right;\">\n",
       "      <th></th>\n",
       "      <th>SIREN</th>\n",
       "      <th>NIC</th>\n",
       "    </tr>\n",
       "  </thead>\n",
       "  <tbody>\n",
       "    <tr>\n",
       "      <th>116</th>\n",
       "      <td>180089013</td>\n",
       "      <td>848</td>\n",
       "    </tr>\n",
       "    <tr>\n",
       "      <th>98</th>\n",
       "      <td>180036048</td>\n",
       "      <td>166</td>\n",
       "    </tr>\n",
       "    <tr>\n",
       "      <th>115</th>\n",
       "      <td>180070039</td>\n",
       "      <td>165</td>\n",
       "    </tr>\n",
       "    <tr>\n",
       "      <th>56</th>\n",
       "      <td>130015506</td>\n",
       "      <td>98</td>\n",
       "    </tr>\n",
       "    <tr>\n",
       "      <th>351</th>\n",
       "      <td>199411117</td>\n",
       "      <td>73</td>\n",
       "    </tr>\n",
       "  </tbody>\n",
       "</table>\n",
       "</div>"
      ],
      "text/plain": [
       "         SIREN  NIC\n",
       "116  180089013  848\n",
       "98   180036048  166\n",
       "115  180070039  165\n",
       "56   130015506   98\n",
       "351  199411117   73"
      ]
     },
     "execution_count": 10,
     "metadata": {},
     "output_type": "execute_result"
    }
   ],
   "source": [
    "table2=subset_SIRENE.groupby([\"SIREN\"],as_index=False).NIC.count().sort_values(by='NIC',ascending=False).head()\n",
    "#table2.to_excel(cwd+'/Tables/'+'Table2.xls')\n",
    "table2"
   ]
  },
  {
   "cell_type": "markdown",
   "metadata": {},
   "source": [
    "On remarque que dans la table SIRENE, des codes SIREN apparaissent sur plusieurs lignes et ce malgré leur caractère unique. Les code SIREN sont bels et bien uniques, néanmoins chaque code est apparenté à une entreprise, or une entreprise peut possèder plusieurs établissements qui seront donc enregistrés dans la base de donnée. On se sert donc de l'attribut \"SIEGE\" pour ne laisser qu'une seul ligne pour chaque code SIREN, car une entreprise possède un et un seul siège:"
   ]
  },
  {
   "cell_type": "code",
   "execution_count": 11,
   "metadata": {
    "collapsed": true
   },
   "outputs": [],
   "source": [
    "subset_SIRENE=subset_SIRENE[subset_SIRENE['SIEGE']==1]\n",
    "merged=pd.merge(subset_SIRENE[subset_SIRENE['recherche']!=''],\n",
    "                anHALytics['ORGANISATION_NAME'][anHALytics['ORGANISATION_NAME']['recherche']!=''],\n",
    "                on='recherche')"
   ]
  },
  {
   "cell_type": "code",
   "execution_count": 12,
   "metadata": {},
   "outputs": [
    {
     "data": {
      "text/plain": [
       "organisationID  name\n",
       "3373            3S      4\n",
       "7662            SPI     3\n",
       "6524            LSI     3\n",
       "5719            IRIS    3\n",
       "2996            PROG    3\n",
       "Name: SIREN, dtype: int64"
      ]
     },
     "execution_count": 12,
     "metadata": {},
     "output_type": "execute_result"
    }
   ],
   "source": [
    "merged.groupby(['organisationID','name']).SIREN.count().sort_values(ascending=False).head()"
   ]
  },
  {
   "cell_type": "markdown",
   "metadata": {},
   "source": [
    "Le problème semble persister de manière plus légère, regardons de plus près celui-ci:"
   ]
  },
  {
   "cell_type": "code",
   "execution_count": 13,
   "metadata": {},
   "outputs": [
    {
     "data": {
      "text/html": [
       "<div>\n",
       "<style>\n",
       "    .dataframe thead tr:only-child th {\n",
       "        text-align: right;\n",
       "    }\n",
       "\n",
       "    .dataframe thead th {\n",
       "        text-align: left;\n",
       "    }\n",
       "\n",
       "    .dataframe tbody tr th {\n",
       "        vertical-align: top;\n",
       "    }\n",
       "</style>\n",
       "<table border=\"1\" class=\"dataframe\">\n",
       "  <thead>\n",
       "    <tr style=\"text-align: right;\">\n",
       "      <th></th>\n",
       "      <th>organisationID</th>\n",
       "      <th>name</th>\n",
       "      <th>NOMEN_LONG</th>\n",
       "      <th>recherche</th>\n",
       "      <th>SIREN</th>\n",
       "    </tr>\n",
       "  </thead>\n",
       "  <tbody>\n",
       "    <tr>\n",
       "      <th>289</th>\n",
       "      <td>2996</td>\n",
       "      <td>PROG</td>\n",
       "      <td>PRO-G</td>\n",
       "      <td>prog</td>\n",
       "      <td>389292178</td>\n",
       "    </tr>\n",
       "    <tr>\n",
       "      <th>291</th>\n",
       "      <td>2996</td>\n",
       "      <td>PROG</td>\n",
       "      <td>PROG</td>\n",
       "      <td>prog</td>\n",
       "      <td>453798944</td>\n",
       "    </tr>\n",
       "    <tr>\n",
       "      <th>293</th>\n",
       "      <td>2996</td>\n",
       "      <td>PROG</td>\n",
       "      <td>PRO-G</td>\n",
       "      <td>prog</td>\n",
       "      <td>327072880</td>\n",
       "    </tr>\n",
       "  </tbody>\n",
       "</table>\n",
       "</div>"
      ],
      "text/plain": [
       "     organisationID  name NOMEN_LONG recherche      SIREN\n",
       "289            2996  PROG      PRO-G      prog  389292178\n",
       "291            2996  PROG       PROG      prog  453798944\n",
       "293            2996  PROG      PRO-G      prog  327072880"
      ]
     },
     "execution_count": 13,
     "metadata": {},
     "output_type": "execute_result"
    }
   ],
   "source": [
    "table3=merged[merged['organisationID']==2996][['organisationID','name','NOMEN_LONG','recherche','SIREN']]\n",
    "#table3.to_excel(cwd+'/Tables/'+'Table3.xls')\n",
    "table3"
   ]
  },
  {
   "cell_type": "markdown",
   "metadata": {},
   "source": [
    "On remarque sans suprise que les noms d'entreprise de sont pas \"uniques\", ou du moins les sigles ne le sont pas. Nous sommes donc dans des cas ambigüs, que je ne sais pas régler de manière automatique (pas assez d'information dans les autres champs de la base SIRENE), donc je choisi de ne pas inclure ces lignes dans le résultat final (le temps que je trouve une solution alternative)"
   ]
  },
  {
   "cell_type": "code",
   "execution_count": 14,
   "metadata": {},
   "outputs": [
    {
     "data": {
      "text/html": [
       "<div>\n",
       "<style>\n",
       "    .dataframe thead tr:only-child th {\n",
       "        text-align: right;\n",
       "    }\n",
       "\n",
       "    .dataframe thead th {\n",
       "        text-align: left;\n",
       "    }\n",
       "\n",
       "    .dataframe tbody tr th {\n",
       "        vertical-align: top;\n",
       "    }\n",
       "</style>\n",
       "<table border=\"1\" class=\"dataframe\">\n",
       "  <thead>\n",
       "    <tr style=\"text-align: right;\">\n",
       "      <th></th>\n",
       "      <th>organisationID</th>\n",
       "      <th>SIREN</th>\n",
       "    </tr>\n",
       "  </thead>\n",
       "  <tbody>\n",
       "    <tr>\n",
       "      <th>6</th>\n",
       "      <td>2214</td>\n",
       "      <td>821134491</td>\n",
       "    </tr>\n",
       "    <tr>\n",
       "      <th>7</th>\n",
       "      <td>9034</td>\n",
       "      <td>130018336</td>\n",
       "    </tr>\n",
       "    <tr>\n",
       "      <th>8</th>\n",
       "      <td>5323</td>\n",
       "      <td>130018351</td>\n",
       "    </tr>\n",
       "    <tr>\n",
       "      <th>9</th>\n",
       "      <td>14635</td>\n",
       "      <td>130018351</td>\n",
       "    </tr>\n",
       "    <tr>\n",
       "      <th>10</th>\n",
       "      <td>5864</td>\n",
       "      <td>130018484</td>\n",
       "    </tr>\n",
       "  </tbody>\n",
       "</table>\n",
       "</div>"
      ],
      "text/plain": [
       "    organisationID      SIREN\n",
       "6             2214  821134491\n",
       "7             9034  130018336\n",
       "8             5323  130018351\n",
       "9            14635  130018351\n",
       "10            5864  130018484"
      ]
     },
     "execution_count": 14,
     "metadata": {},
     "output_type": "execute_result"
    }
   ],
   "source": [
    "orgid=merged.groupby(['organisationID']).SIREN.count()[merged.groupby(['organisationID']).SIREN.count()<2].index.values\n",
    "org_SIREN=merged[merged['organisationID'].isin(orgid)][['organisationID','SIREN']]\n",
    "org_SIREN.head()"
   ]
  },
  {
   "cell_type": "markdown",
   "metadata": {},
   "source": [
    "## On effectue la même chose pour les SIGLE"
   ]
  },
  {
   "cell_type": "code",
   "execution_count": 18,
   "metadata": {},
   "outputs": [],
   "source": [
    "subset_SIRENE['recherche_SIGLE'] = subset_SIRENE['SIGLE'].apply(lambda x: normalize(x,spec,stopwords,sigle=True))\n",
    "\n",
    "\n",
    "anHALytics['ORGANISATION_NAME']['recherche_SIGLE']=anHALytics['ORGANISATION_NAME']['name'].apply(lambda x: normalize(x,spec,stopwords,sigle=True))\n"
   ]
  },
  {
   "cell_type": "code",
   "execution_count": 20,
   "metadata": {},
   "outputs": [
    {
     "data": {
      "text/html": [
       "<div>\n",
       "<style>\n",
       "    .dataframe thead tr:only-child th {\n",
       "        text-align: right;\n",
       "    }\n",
       "\n",
       "    .dataframe thead th {\n",
       "        text-align: left;\n",
       "    }\n",
       "\n",
       "    .dataframe tbody tr th {\n",
       "        vertical-align: top;\n",
       "    }\n",
       "</style>\n",
       "<table border=\"1\" class=\"dataframe\">\n",
       "  <thead>\n",
       "    <tr style=\"text-align: right;\">\n",
       "      <th></th>\n",
       "      <th>SIREN</th>\n",
       "      <th>NOMEN_LONG</th>\n",
       "      <th>SIGLE</th>\n",
       "      <th>recherche_SIGLE</th>\n",
       "      <th>name</th>\n",
       "      <th>organisationID</th>\n",
       "    </tr>\n",
       "  </thead>\n",
       "  <tbody>\n",
       "    <tr>\n",
       "      <th>0</th>\n",
       "      <td>338296593</td>\n",
       "      <td>ASS ECOLE SUPER INGEN GENIE ELECT TELEM</td>\n",
       "      <td>ESIGETEL</td>\n",
       "      <td>esigetel</td>\n",
       "      <td>ESIGETEL</td>\n",
       "      <td>9776</td>\n",
       "    </tr>\n",
       "    <tr>\n",
       "      <th>1</th>\n",
       "      <td>338296593</td>\n",
       "      <td>ASS ECOLE SUPER INGEN GENIE ELECT TELEM</td>\n",
       "      <td>ESIGETEL</td>\n",
       "      <td>esigetel</td>\n",
       "      <td>ESIGETEL</td>\n",
       "      <td>9777</td>\n",
       "    </tr>\n",
       "    <tr>\n",
       "      <th>2</th>\n",
       "      <td>338723919</td>\n",
       "      <td>EUROPEAN SYNCHROTRON RADIATION FACILITY</td>\n",
       "      <td>ESRF</td>\n",
       "      <td>esrf</td>\n",
       "      <td>ESRF</td>\n",
       "      <td>1969</td>\n",
       "    </tr>\n",
       "    <tr>\n",
       "      <th>3</th>\n",
       "      <td>338723919</td>\n",
       "      <td>EUROPEAN SYNCHROTRON RADIATION FACILITY</td>\n",
       "      <td>ESRF</td>\n",
       "      <td>esrf</td>\n",
       "      <td>ESRF</td>\n",
       "      <td>8219</td>\n",
       "    </tr>\n",
       "    <tr>\n",
       "      <th>4</th>\n",
       "      <td>338723919</td>\n",
       "      <td>EUROPEAN SYNCHROTRON RADIATION FACILITY</td>\n",
       "      <td>ESRF</td>\n",
       "      <td>esrf</td>\n",
       "      <td>ESRF</td>\n",
       "      <td>8220</td>\n",
       "    </tr>\n",
       "  </tbody>\n",
       "</table>\n",
       "</div>"
      ],
      "text/plain": [
       "       SIREN                               NOMEN_LONG     SIGLE  \\\n",
       "0  338296593  ASS ECOLE SUPER INGEN GENIE ELECT TELEM  ESIGETEL   \n",
       "1  338296593  ASS ECOLE SUPER INGEN GENIE ELECT TELEM  ESIGETEL   \n",
       "2  338723919  EUROPEAN SYNCHROTRON RADIATION FACILITY      ESRF   \n",
       "3  338723919  EUROPEAN SYNCHROTRON RADIATION FACILITY      ESRF   \n",
       "4  338723919  EUROPEAN SYNCHROTRON RADIATION FACILITY      ESRF   \n",
       "\n",
       "  recherche_SIGLE      name  organisationID  \n",
       "0        esigetel  ESIGETEL            9776  \n",
       "1        esigetel  ESIGETEL            9777  \n",
       "2            esrf      ESRF            1969  \n",
       "3            esrf      ESRF            8219  \n",
       "4            esrf      ESRF            8220  "
      ]
     },
     "execution_count": 20,
     "metadata": {},
     "output_type": "execute_result"
    }
   ],
   "source": [
    "merged_SIGLE=pd.merge(subset_SIRENE[subset_SIRENE['recherche_SIGLE']!=''],\n",
    "                anHALytics['ORGANISATION_NAME'][anHALytics['ORGANISATION_NAME']['recherche_SIGLE']!=''],\n",
    "                on='recherche_SIGLE')\n",
    "\n",
    "merged_SIGLE[['SIREN','NOMEN_LONG','SIGLE','recherche_SIGLE','name','organisationID']].head()"
   ]
  },
  {
   "cell_type": "code",
   "execution_count": 21,
   "metadata": {
    "collapsed": true
   },
   "outputs": [],
   "source": [
    "orgid_SIGLE=merged_SIGLE.groupby(['organisationID']).SIREN.count()[merged_SIGLE.groupby(['organisationID']).SIREN.count()<2].index.values\n",
    "\n",
    "org_SIREN_SIGLE=merged_SIGLE[merged_SIGLE['organisationID'].isin(orgid_SIGLE)][['organisationID','SIREN']]\n",
    "\n",
    "org_SIREN=org_SIREN.append(org_SIREN_SIGLE)"
   ]
  },
  {
   "cell_type": "code",
   "execution_count": 22,
   "metadata": {
    "collapsed": true
   },
   "outputs": [],
   "source": [
    "org_SIREN=org_SIREN.drop_duplicates(['SIREN','organisationID'])\n",
    "\n",
    "org_SIREN.index=[i for i in range(org_SIREN.shape[0])]"
   ]
  },
  {
   "cell_type": "code",
   "execution_count": 24,
   "metadata": {},
   "outputs": [
    {
     "data": {
      "text/html": [
       "<div>\n",
       "<style>\n",
       "    .dataframe thead tr:only-child th {\n",
       "        text-align: right;\n",
       "    }\n",
       "\n",
       "    .dataframe thead th {\n",
       "        text-align: left;\n",
       "    }\n",
       "\n",
       "    .dataframe tbody tr th {\n",
       "        vertical-align: top;\n",
       "    }\n",
       "</style>\n",
       "<table border=\"1\" class=\"dataframe\">\n",
       "  <thead>\n",
       "    <tr style=\"text-align: right;\">\n",
       "      <th></th>\n",
       "      <th>organisationID</th>\n",
       "      <th>SIREN</th>\n",
       "    </tr>\n",
       "  </thead>\n",
       "  <tbody>\n",
       "    <tr>\n",
       "      <th>0</th>\n",
       "      <td>2214</td>\n",
       "      <td>821134491</td>\n",
       "    </tr>\n",
       "    <tr>\n",
       "      <th>1</th>\n",
       "      <td>9034</td>\n",
       "      <td>130018336</td>\n",
       "    </tr>\n",
       "    <tr>\n",
       "      <th>2</th>\n",
       "      <td>5323</td>\n",
       "      <td>130018351</td>\n",
       "    </tr>\n",
       "    <tr>\n",
       "      <th>3</th>\n",
       "      <td>14635</td>\n",
       "      <td>130018351</td>\n",
       "    </tr>\n",
       "    <tr>\n",
       "      <th>4</th>\n",
       "      <td>5864</td>\n",
       "      <td>130018484</td>\n",
       "    </tr>\n",
       "  </tbody>\n",
       "</table>\n",
       "</div>"
      ],
      "text/plain": [
       "   organisationID      SIREN\n",
       "0            2214  821134491\n",
       "1            9034  130018336\n",
       "2            5323  130018351\n",
       "3           14635  130018351\n",
       "4            5864  130018484"
      ]
     },
     "execution_count": 24,
     "metadata": {},
     "output_type": "execute_result"
    }
   ],
   "source": [
    "org_SIREN.head()"
   ]
  },
  {
   "cell_type": "markdown",
   "metadata": {
    "collapsed": true
   },
   "source": [
    "Cette nouvelle table permettra de relier la table organisation et la table SIRENE."
   ]
  }
 ],
 "metadata": {
  "kernelspec": {
   "display_name": "Python 3",
   "language": "python",
   "name": "python3"
  },
  "language_info": {
   "codemirror_mode": {
    "name": "ipython",
    "version": 3
   },
   "file_extension": ".py",
   "mimetype": "text/x-python",
   "name": "python",
   "nbconvert_exporter": "python",
   "pygments_lexer": "ipython3",
   "version": "3.6.1"
  }
 },
 "nbformat": 4,
 "nbformat_minor": 2
}
